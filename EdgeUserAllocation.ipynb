{
  "nbformat": 4,
  "nbformat_minor": 0,
  "metadata": {
    "colab": {
      "name": "EdgeUserAllocation.ipynb",
      "provenance": [],
      "collapsed_sections": [],
      "toc_visible": true,
      "authorship_tag": "ABX9TyOeB0jvWoEMAHlAHKG+pdah",
      "include_colab_link": true
    },
    "kernelspec": {
      "name": "python3",
      "display_name": "Python 3"
    }
  },
  "cells": [
    {
      "cell_type": "markdown",
      "metadata": {
        "id": "view-in-github",
        "colab_type": "text"
      },
      "source": [
        "<a href=\"https://colab.research.google.com/github/sparshsinha123/EUA/blob/main/EdgeUserAllocation.ipynb\" target=\"_parent\"><img src=\"https://colab.research.google.com/assets/colab-badge.svg\" alt=\"Open In Colab\"/></a>"
      ]
    },
    {
      "cell_type": "markdown",
      "metadata": {
        "id": "QwzN1WjOhxm-"
      },
      "source": [
        "Edge User Allocation with common deadlines\n"
      ]
    },
    {
      "cell_type": "code",
      "metadata": {
        "colab": {
          "base_uri": "https://localhost:8080/"
        },
        "id": "4RmqvkKbh1Xz",
        "outputId": "8065faca-02de-4bcc-e689-419c9a5e5e2e"
      },
      "source": [
        "!pip install pulp"
      ],
      "execution_count": null,
      "outputs": [
        {
          "output_type": "stream",
          "text": [
            "Collecting pulp\n",
            "\u001b[?25l  Downloading https://files.pythonhosted.org/packages/14/c4/0eec14a0123209c261de6ff154ef3be5cad3fd557c084f468356662e0585/PuLP-2.4-py3-none-any.whl (40.6MB)\n",
            "\u001b[K     |████████████████████████████████| 40.6MB 72kB/s \n",
            "\u001b[?25hCollecting amply>=0.1.2\n",
            "  Downloading https://files.pythonhosted.org/packages/f3/c5/dfa09dd2595a2ab2ab4e6fa7bebef9565812722e1980d04b0edce5032066/amply-0.1.4-py3-none-any.whl\n",
            "Requirement already satisfied: pyparsing in /usr/local/lib/python3.7/dist-packages (from amply>=0.1.2->pulp) (2.4.7)\n",
            "Requirement already satisfied: docutils>=0.3 in /usr/local/lib/python3.7/dist-packages (from amply>=0.1.2->pulp) (0.16)\n",
            "Installing collected packages: amply, pulp\n",
            "Successfully installed amply-0.1.4 pulp-2.4\n"
          ],
          "name": "stdout"
        }
      ]
    },
    {
      "cell_type": "code",
      "metadata": {
        "id": "prkqpCYLh31m"
      },
      "source": [
        "import pandas as pd\n",
        "import pulp as pl\n",
        "import numpy as np\n",
        "from functools import cmp_to_key"
      ],
      "execution_count": null,
      "outputs": []
    },
    {
      "cell_type": "code",
      "metadata": {
        "colab": {
          "base_uri": "https://localhost:8080/",
          "height": 241
        },
        "id": "up5IWLbRiq7s",
        "outputId": "2cab4399-281f-42e5-c230-bde44a97f5ee"
      },
      "source": [
        "FILENAME = '2.csv'\n",
        "df = pd.read_csv(FILENAME)\n",
        "df.head()"
      ],
      "execution_count": null,
      "outputs": [
        {
          "output_type": "execute_result",
          "data": {
            "text/html": [
              "<div>\n",
              "<style scoped>\n",
              "    .dataframe tbody tr th:only-of-type {\n",
              "        vertical-align: middle;\n",
              "    }\n",
              "\n",
              "    .dataframe tbody tr th {\n",
              "        vertical-align: top;\n",
              "    }\n",
              "\n",
              "    .dataframe thead th {\n",
              "        text-align: right;\n",
              "    }\n",
              "</style>\n",
              "<table border=\"1\" class=\"dataframe\">\n",
              "  <thead>\n",
              "    <tr style=\"text-align: right;\">\n",
              "      <th></th>\n",
              "      <th>Unnamed: 0</th>\n",
              "      <th>siteId</th>\n",
              "      <th>serverLat</th>\n",
              "      <th>serverLong</th>\n",
              "      <th>coverage</th>\n",
              "      <th>uId</th>\n",
              "      <th>userLat</th>\n",
              "      <th>userLong</th>\n",
              "      <th>SCPU</th>\n",
              "      <th>SSTO</th>\n",
              "      <th>SBAN</th>\n",
              "      <th>SRAM</th>\n",
              "      <th>UCPU</th>\n",
              "      <th>URAM</th>\n",
              "      <th>UST</th>\n",
              "      <th>UBAN</th>\n",
              "    </tr>\n",
              "  </thead>\n",
              "  <tbody>\n",
              "    <tr>\n",
              "      <th>0</th>\n",
              "      <td>0</td>\n",
              "      <td>1000</td>\n",
              "      <td>-12.471947</td>\n",
              "      <td>130.845073</td>\n",
              "      <td>139.740864</td>\n",
              "      <td>388</td>\n",
              "      <td>-12.5144</td>\n",
              "      <td>130.9688</td>\n",
              "      <td>1.000000</td>\n",
              "      <td>16.694195</td>\n",
              "      <td>7.191424</td>\n",
              "      <td>1.00000</td>\n",
              "      <td>1</td>\n",
              "      <td>2</td>\n",
              "      <td>1</td>\n",
              "      <td>2</td>\n",
              "    </tr>\n",
              "    <tr>\n",
              "      <th>1</th>\n",
              "      <td>1</td>\n",
              "      <td>1000</td>\n",
              "      <td>-12.471947</td>\n",
              "      <td>130.845073</td>\n",
              "      <td>139.740864</td>\n",
              "      <td>431</td>\n",
              "      <td>-12.3912</td>\n",
              "      <td>130.8905</td>\n",
              "      <td>1.000000</td>\n",
              "      <td>16.694195</td>\n",
              "      <td>7.191424</td>\n",
              "      <td>1.00000</td>\n",
              "      <td>1</td>\n",
              "      <td>2</td>\n",
              "      <td>1</td>\n",
              "      <td>2</td>\n",
              "    </tr>\n",
              "    <tr>\n",
              "      <th>2</th>\n",
              "      <td>2</td>\n",
              "      <td>1000</td>\n",
              "      <td>-12.471947</td>\n",
              "      <td>130.845073</td>\n",
              "      <td>139.740864</td>\n",
              "      <td>432</td>\n",
              "      <td>-12.4572</td>\n",
              "      <td>130.8366</td>\n",
              "      <td>1.000000</td>\n",
              "      <td>16.694195</td>\n",
              "      <td>7.191424</td>\n",
              "      <td>1.00000</td>\n",
              "      <td>2</td>\n",
              "      <td>3</td>\n",
              "      <td>3</td>\n",
              "      <td>4</td>\n",
              "    </tr>\n",
              "    <tr>\n",
              "      <th>3</th>\n",
              "      <td>3</td>\n",
              "      <td>1000</td>\n",
              "      <td>-12.471947</td>\n",
              "      <td>130.845073</td>\n",
              "      <td>139.740864</td>\n",
              "      <td>433</td>\n",
              "      <td>-12.3807</td>\n",
              "      <td>130.8854</td>\n",
              "      <td>1.000000</td>\n",
              "      <td>16.694195</td>\n",
              "      <td>7.191424</td>\n",
              "      <td>1.00000</td>\n",
              "      <td>5</td>\n",
              "      <td>7</td>\n",
              "      <td>6</td>\n",
              "      <td>6</td>\n",
              "    </tr>\n",
              "    <tr>\n",
              "      <th>4</th>\n",
              "      <td>4</td>\n",
              "      <td>10000</td>\n",
              "      <td>-33.756158</td>\n",
              "      <td>150.698182</td>\n",
              "      <td>104.433753</td>\n",
              "      <td>95</td>\n",
              "      <td>-33.8675</td>\n",
              "      <td>151.2070</td>\n",
              "      <td>32.693898</td>\n",
              "      <td>9.733423</td>\n",
              "      <td>30.515704</td>\n",
              "      <td>27.52511</td>\n",
              "      <td>1</td>\n",
              "      <td>2</td>\n",
              "      <td>1</td>\n",
              "      <td>2</td>\n",
              "    </tr>\n",
              "  </tbody>\n",
              "</table>\n",
              "</div>"
            ],
            "text/plain": [
              "   Unnamed: 0  siteId  serverLat  serverLong  ...  UCPU  URAM  UST  UBAN\n",
              "0           0    1000 -12.471947  130.845073  ...     1     2    1     2\n",
              "1           1    1000 -12.471947  130.845073  ...     1     2    1     2\n",
              "2           2    1000 -12.471947  130.845073  ...     2     3    3     4\n",
              "3           3    1000 -12.471947  130.845073  ...     5     7    6     6\n",
              "4           4   10000 -33.756158  150.698182  ...     1     2    1     2\n",
              "\n",
              "[5 rows x 16 columns]"
            ]
          },
          "metadata": {
            "tags": []
          },
          "execution_count": 3
        }
      ]
    },
    {
      "cell_type": "markdown",
      "metadata": {
        "id": "7dM1Fu75j_uP"
      },
      "source": [
        "### Separating the user and server data frames and preparing the data"
      ]
    },
    {
      "cell_type": "code",
      "metadata": {
        "id": "8G1IwaJEkLWr"
      },
      "source": [
        "## separating the users data frame and the server data frame into seperate data frames\n",
        "## storing the coverage information of the servers in dictionary\n",
        "userdf = df[['uId' , 'UCPU' , 'URAM' , 'UST' , 'UBAN']]\n",
        "userdf = userdf.drop_duplicates(keep = 'first')\n",
        "\n",
        "serverdf = df[['siteId' , 'coverage' , 'SCPU' , 'SSTO' , 'SBAN' , 'SRAM']]\n",
        "serverdf = serverdf.drop_duplicates(keep = 'first')\n",
        "\n",
        "## dictionary to store the coverage of the servers\n",
        "coverage = {}\n",
        "serversites = serverdf['siteId'].tolist()\n",
        "\n",
        "for st in serversites:\n",
        "  new_df = df.loc[df['siteId'] == st]\n",
        "  ulist = new_df.uId.tolist()\n",
        "  coverage[st] = ulist"
      ],
      "execution_count": null,
      "outputs": []
    },
    {
      "cell_type": "code",
      "metadata": {
        "colab": {
          "base_uri": "https://localhost:8080/",
          "height": 204
        },
        "id": "vZ_UnTLd4dlR",
        "outputId": "f1aee1b7-30b2-4562-f923-20e5e2f228c4"
      },
      "source": [
        "serverdf.head()"
      ],
      "execution_count": null,
      "outputs": [
        {
          "output_type": "execute_result",
          "data": {
            "text/html": [
              "<div>\n",
              "<style scoped>\n",
              "    .dataframe tbody tr th:only-of-type {\n",
              "        vertical-align: middle;\n",
              "    }\n",
              "\n",
              "    .dataframe tbody tr th {\n",
              "        vertical-align: top;\n",
              "    }\n",
              "\n",
              "    .dataframe thead th {\n",
              "        text-align: right;\n",
              "    }\n",
              "</style>\n",
              "<table border=\"1\" class=\"dataframe\">\n",
              "  <thead>\n",
              "    <tr style=\"text-align: right;\">\n",
              "      <th></th>\n",
              "      <th>siteId</th>\n",
              "      <th>coverage</th>\n",
              "      <th>SCPU</th>\n",
              "      <th>SSTO</th>\n",
              "      <th>SBAN</th>\n",
              "      <th>SRAM</th>\n",
              "    </tr>\n",
              "  </thead>\n",
              "  <tbody>\n",
              "    <tr>\n",
              "      <th>0</th>\n",
              "      <td>1000</td>\n",
              "      <td>139.740864</td>\n",
              "      <td>1.000000</td>\n",
              "      <td>16.694195</td>\n",
              "      <td>7.191424</td>\n",
              "      <td>1.000000</td>\n",
              "    </tr>\n",
              "    <tr>\n",
              "      <th>4</th>\n",
              "      <td>10000</td>\n",
              "      <td>104.433753</td>\n",
              "      <td>32.693898</td>\n",
              "      <td>9.733423</td>\n",
              "      <td>30.515704</td>\n",
              "      <td>27.525110</td>\n",
              "    </tr>\n",
              "    <tr>\n",
              "      <th>70</th>\n",
              "      <td>10000002</td>\n",
              "      <td>147.708035</td>\n",
              "      <td>12.130151</td>\n",
              "      <td>1.000000</td>\n",
              "      <td>14.943381</td>\n",
              "      <td>8.367748</td>\n",
              "    </tr>\n",
              "    <tr>\n",
              "      <th>72</th>\n",
              "      <td>10000003</td>\n",
              "      <td>101.405127</td>\n",
              "      <td>20.052630</td>\n",
              "      <td>6.911655</td>\n",
              "      <td>15.411686</td>\n",
              "      <td>27.173734</td>\n",
              "    </tr>\n",
              "    <tr>\n",
              "      <th>76</th>\n",
              "      <td>10000006</td>\n",
              "      <td>123.580381</td>\n",
              "      <td>6.932951</td>\n",
              "      <td>4.380761</td>\n",
              "      <td>1.000000</td>\n",
              "      <td>7.897172</td>\n",
              "    </tr>\n",
              "  </tbody>\n",
              "</table>\n",
              "</div>"
            ],
            "text/plain": [
              "      siteId    coverage       SCPU       SSTO       SBAN       SRAM\n",
              "0       1000  139.740864   1.000000  16.694195   7.191424   1.000000\n",
              "4      10000  104.433753  32.693898   9.733423  30.515704  27.525110\n",
              "70  10000002  147.708035  12.130151   1.000000  14.943381   8.367748\n",
              "72  10000003  101.405127  20.052630   6.911655  15.411686  27.173734\n",
              "76  10000006  123.580381   6.932951   4.380761   1.000000   7.897172"
            ]
          },
          "metadata": {
            "tags": []
          },
          "execution_count": 5
        }
      ]
    },
    {
      "cell_type": "markdown",
      "metadata": {
        "id": "5Y7i50xX4ro8"
      },
      "source": [
        "### Edge user allocation as a integer programming problem"
      ]
    },
    {
      "cell_type": "code",
      "metadata": {
        "colab": {
          "base_uri": "https://localhost:8080/"
        },
        "id": "hGznlhBxwdcB",
        "outputId": "633eb7db-54e3-4d2a-c539-5b8b705017e6"
      },
      "source": [
        "%%time\n",
        "## getting all the necessary values for the linear programming formulation\n",
        "common_deadline = 10\n",
        "num_servers = serverdf.shape[0]\n",
        "num_users = userdf.shape[0]\n",
        "\n",
        "print(\"the common deadline for the tasks is \" + str(common_deadline))\n",
        "print(\"number of servers are \" + str(num_servers))\n",
        "print(\"number of users are \" + str(num_users))\n",
        "print(\"the common deadline for the execution of tasks is \" + str(common_deadline))\n",
        "\n",
        "## getting the list of all the server resources\n",
        "servercpu = np.array(serverdf['SCPU'].tolist())\n",
        "serverstorage = np.array(serverdf['SSTO'].tolist())\n",
        "serverram = np.array(serverdf['SRAM'].tolist())\n",
        "serverbandwidth = np.array(serverdf['SBAN'].tolist())\n",
        "serverid = np.array(serverdf['siteId'].tolist())\n",
        "\n",
        "\n",
        "## getting the list of all the user resources\n",
        "MEAN = 2\n",
        "STDDEV = 1\n",
        "usercpu = np.array(userdf['UCPU'].tolist())\n",
        "userstorage = np.array(userdf['UST'].tolist())\n",
        "userram = np.array(userdf['URAM'].tolist())\n",
        "userbandwidth = np.array(userdf['UBAN'].tolist())\n",
        "userid = np.array(userdf['uId'].tolist())\n",
        "\n",
        "## randomly generating the execution time for the users \n",
        "userexecutiontime = np.round(np.array(np.random.normal(MEAN , STDDEV , num_users)))\n",
        "userexecutiontime = [max(i , 0) for i in userexecutiontime]\n",
        "\n",
        "def is_in_coverage_of(j , i):\n",
        "  ## whether the jth user is in coverage of the ith server or not\n",
        "  site_id_of_server = serverid[i]\n",
        "  user_id_of_user = userid[j]\n",
        "  cover = coverage[site_id_of_server]\n",
        "  if user_id_of_user in cover:\n",
        "    return 1\n",
        "  else:\n",
        "    return 0\n"
      ],
      "execution_count": null,
      "outputs": [
        {
          "output_type": "stream",
          "text": [
            "the common deadline for the tasks is 10\n",
            "number of servers are 47\n",
            "number of users are 343\n",
            "the common deadline for the execution of tasks is 10\n",
            "CPU times: user 3.61 ms, sys: 125 µs, total: 3.73 ms\n",
            "Wall time: 3.3 ms\n"
          ],
          "name": "stdout"
        }
      ]
    },
    {
      "cell_type": "code",
      "metadata": {
        "colab": {
          "base_uri": "https://localhost:8080/"
        },
        "id": "tyn1Tf5u4wJ7",
        "outputId": "65052bd2-84eb-4e5b-8f8f-226bd45c0c3d"
      },
      "source": [
        "def linear_programming_solution():\n",
        "    server_user_time_vars = [[[\"x_{0}_{1}_{2}\".format(i , j , t) for t in range(common_deadline)] for j in range(num_users)] for i in range(num_servers)]\n",
        "    server_time_vars = [[\"y_{0}_{1}\".format(i , t) for t in range(common_deadline)] for i in range(num_servers)]\n",
        "\n",
        "    ## setting up the variables for the linear programming\n",
        "    ## X[i][j][t] is whether the jth user is allocated to the ith server at time t or not\n",
        "    ## Y[i][t] is whether the ith server is active at t\n",
        "\n",
        "    X = [[[pl.LpVariable(server_user_time_vars[i][j][t], 0, 1, cat='Integer') for t in range(common_deadline)] for j in range(num_users)] for i in range(num_servers)]\n",
        "    Y = [[pl.LpVariable(server_time_vars[i][t] , 0 , 1 , cat='Integer') for t in range(common_deadline)]for i in range(num_servers)]\n",
        "\n",
        "    ## create the optimization problem as the maximization problem\n",
        "    linearprogram = pl.LpProblem(\"euasolver\", pl.LpMaximize)\n",
        "\n",
        "    ## setting up the resource constraint equations \n",
        "    for t in range(common_deadline):\n",
        "      for i in range(num_servers):\n",
        "\n",
        "        ## cpu constraint at time t \n",
        "        constraintcpu = X[i][0][t] * usercpu[0]\n",
        "        for j in range(1 , num_users):\n",
        "          constraintcpu += X[i][j][t] * usercpu[j]\n",
        "        constraintcpu -= Y[i][t] * servercpu[i]\n",
        "\n",
        "        linearprogram += constraintcpu <= 0\n",
        "\n",
        "        ## storage constraint at time t\n",
        "        constraintstorage = X[i][0][t] * userstorage[0]\n",
        "        for j in range(1 , num_users):\n",
        "          constraintstorage += X[i][j][t] * userstorage[j]\n",
        "        constraintstorage -= Y[i][t] * serverstorage[i]\n",
        "\n",
        "        linearprogram += constraintstorage <= 0\n",
        "\n",
        "        ## ram constraints at time t\n",
        "        constraintram = X[i][0][t] * userram[0]\n",
        "        for j in range(1 , num_users):\n",
        "          constraintram += X[i][j][t] * userram[j]\n",
        "        constraintram -= Y[i][t] * serverram[i]\n",
        "\n",
        "        linearprogram += constraintram <= 0\n",
        "\n",
        "        ## bandwidth constraint at time t\n",
        "        constraintbandwidth = X[i][0][t] * userbandwidth[0]\n",
        "        for j in range(1 , num_users):\n",
        "          constraintbandwidth += X[i][j][t] * userbandwidth[j]\n",
        "        constraintbandwidth -= Y[i][t] * serverbandwidth[i]\n",
        "\n",
        "        linearprogram += constraintbandwidth <= 0\n",
        "\n",
        "\n",
        "    ## at any time t one user must go to one server only\n",
        "    for t in range(common_deadline):\n",
        "      for j in range(num_users):\n",
        "        serverconstraint = X[0][j][t]\n",
        "        for i in range(1 , num_servers):\n",
        "          serverconstraint += X[i][j][t];\n",
        "\n",
        "        linearprogram += serverconstraint <= 1\n",
        "\n",
        "    \n",
        "    ## proximity constraint at any time t\n",
        "    for i in range(num_servers):\n",
        "      for j in range(num_users):\n",
        "        ## find if the user is in coverage of the current server\n",
        "        is_user_in_server_coverage = df.loc[(df.siteId == serverid[i]) & (df.uId == userid[j])].shape[0]\n",
        "        \n",
        "        if is_user_in_server_coverage == 0:\n",
        "          ## if the user is not in the coverage of the server then for all the times the value of X[i][j][t] must be zero\n",
        "          for t in range(common_deadline):\n",
        "            user_out_of_coverage_constraint = X[i][j][t]\n",
        "            linearprogram += user_out_of_coverage_constraint <= 0 \n",
        "            linearprogram += user_out_of_coverage_constraint >= 0     \n",
        "\n",
        "\n",
        "    ## Making the system migration free\n",
        "    ## z_i_j = 1 if the jth user was allocated to the ith server\n",
        "    ## other wise 0\n",
        "\n",
        "    migration_control = [[\"z_{0}_{1}\".format(i , j) for j in range(num_users)] for i in range(num_servers)]\n",
        "\n",
        "    Z = [[pl.LpVariable(migration_control[i][j] , 0 , 1 , cat='Integer') for j in range(num_users)] for i in range(num_servers)]\n",
        "\n",
        "    ## for a particular user we must have only one server to which it belongs\n",
        "    for j in range(num_users):\n",
        "      migration_constraint = Z[0][j]\n",
        "      for i in range(1 , num_servers):\n",
        "        migration_constraint += Z[i][j]\n",
        "\n",
        "      linearprogram += migration_constraint <= 1\n",
        "\n",
        "\n",
        "    ## the user must be only allocated to one server for the total sum of its execution time only\n",
        "    for i in range(num_servers):\n",
        "      for j in range(num_users):\n",
        "        constraint_execution_time = X[i][j][0]\n",
        "        for t in range(1 , common_deadline):  \n",
        "          constraint_execution_time += X[i][j][t]\n",
        "        \n",
        "        linearprogram += constraint_execution_time <= Z[i][j] * userexecutiontime[j]\n",
        "        linearprogram += constraint_execution_time >= Z[i][j] * userexecutiontime[j]\n",
        "\n",
        "    obj = 0\n",
        "    for i in range(num_servers):\n",
        "      for t in range(common_deadline):\n",
        "        for j in range(num_users):\n",
        "          obj += X[i][j][t]\n",
        "\n",
        "    linearprogram += obj\n",
        "\n",
        "\n",
        "    ## print the solution of the linear programming problem\n",
        "    print(\"solving the linear programming problem... \")\n",
        "    status = linearprogram.solve()\n",
        "\n",
        "    if status == pl.LpStatusOptimal:\n",
        "      print(\"the optimal solutions are : \") \n",
        "      num_users_allocated = 0\n",
        "      for i in range(num_servers):\n",
        "        for j in range(num_users):\n",
        "          for t in range(common_deadline):\n",
        "            num_users_allocated += pl.value(X[i][j][t])\n",
        "      \n",
        "      avg_users_allocated = (1.00 * num_users_allocated) / (common_deadline) \n",
        "\n",
        "      print(\"average number of users allocated: \" + str(avg_users_allocated))\n",
        "      \n",
        "      total_servers_used = 0\n",
        "      for i in range(num_servers):\n",
        "        for t in range(common_deadline):\n",
        "          total_servers_used += pl.value(Y[i][t])\n",
        "      \n",
        "      avg_servers_used = (1.00 * total_servers_used) / (common_deadline)\n",
        "      print(\"average number of servers used: \" + str(avg_servers_used))\n",
        "      return avg_servers_used\n",
        "    else:\n",
        "      print(\"unable to find the optimal solution\")\n",
        "      return -1\n",
        "\n",
        "%time\n",
        "usrs_allocated = linear_programming_solution()\n",
        "print(\"the number of users allocated \" + str(usrs_allocated))\n"
      ],
      "execution_count": null,
      "outputs": [
        {
          "output_type": "stream",
          "text": [
            "CPU times: user 2 µs, sys: 0 ns, total: 2 µs\n",
            "Wall time: 5.48 µs\n",
            "solving the linear programming problem... \n",
            "the optimal solutions are : \n",
            "average number of users allocated: 33.0\n",
            "average number of servers used: 47.0\n",
            "the number of users allocated 47.0\n"
          ],
          "name": "stdout"
        }
      ]
    },
    {
      "cell_type": "markdown",
      "metadata": {
        "id": "lfEpUgR4wyjQ"
      },
      "source": [
        "## HEURISTIC SOLUTIONS"
      ]
    },
    {
      "cell_type": "markdown",
      "metadata": {
        "id": "9ndW8KODs_WU"
      },
      "source": [
        "### SORTING ON THE BASIS OF EXECUTION TIME"
      ]
    },
    {
      "cell_type": "code",
      "metadata": {
        "id": "36oVTMyzw3UR"
      },
      "source": [
        "## performs the allocation of the users to the servers based on the comparators passed in\n",
        "def perform_user_allocation(usr_key , server_key , verbose = False):\n",
        "    ## sorting the users and servers on the basis of the key\n",
        "    userslist = [i for i in range(num_users)]\n",
        "    serverlist = [i for i in range(num_servers)]\n",
        "    userslist.sort(key = usr_key)\n",
        "    serverlist.sort(key = server_key)\n",
        "\n",
        "    ## forming the allocation dictionary for the users \n",
        "    allocated = {}\n",
        "    ## maintaining the used servers\n",
        "    servers_used = {}\n",
        "    ## maintaining the execution time of the users\n",
        "    exectime = userexecutiontime.copy() \n",
        "    ## create the map of users to servers at time t\n",
        "    user_server_map = [[[0 for t in range(common_deadline)] for j in range(num_users)] for i in range(num_servers)]\n",
        "\n",
        "    for t in range(common_deadline):\n",
        "      ## for each time instant upto the common deadline do the following \n",
        "      \n",
        "      ## get the server resources\n",
        "      scpu = servercpu.copy()\n",
        "      sstorage = serverstorage.copy()\n",
        "      sram = serverram.copy()\n",
        "      sbandwidth = serverbandwidth.copy()\n",
        "      \n",
        "      ## utility function to perform the allocation of a user to the server\n",
        "      def allocate(j , i):\n",
        "        ## allocate the jth user to the ith server\n",
        "          scpu[i] = scpu[i] - usercpu[j] \n",
        "          sstorage[i] = sstorage[i] - userstorage[j] \n",
        "          sram[i] = sram[i] - userram[j] \n",
        "          sbandwidth[i] = sbandwidth[i] - userbandwidth[j]\n",
        "      \n",
        "      def canbeallocated(j , i):\n",
        "      # whether the jth user can be allocated to ith server or not\n",
        "          if is_in_coverage_of(j , i) == 0:\n",
        "            return 0\n",
        "          if usercpu[j] > scpu[i]:\n",
        "            return 0\n",
        "          if userstorage[j] > sstorage[i]:\n",
        "            return 0\n",
        "          if userram[j] > sram[i]:\n",
        "            return 0\n",
        "          if userbandwidth[j] > sbandwidth[i]:\n",
        "            return 0\n",
        " \n",
        "          return 1\n",
        "\n",
        "      for j in range(num_users):\n",
        "        usr = userslist[j]\n",
        "        \n",
        "        # if the users execution time is over then ignore and continue\n",
        "        if exectime[usr] <= 0:\n",
        "          continue\n",
        "\n",
        "        # if the user has already been allocated to a server then try allocate him to it again\n",
        "        if usr in allocated:\n",
        "          server_used = allocated[usr] ## get the server to which he was allocated\n",
        "          allocate(usr , server_used) ## allocate him to the same server\n",
        "          exectime[usr] -= 1 ## one unit of execution time is done \n",
        "          user_server_map[server_used][usr][t] = 1 ## usr has been allocated to the server so mark him in the map\n",
        "          servers_used[server_used] = 1 ## this server is marked as used\n",
        "        else:\n",
        "          ## try to allocate the user to the starting from left to right\n",
        "          for i in range(num_servers): \n",
        "            srvr = serverlist[i] ## this is the server that we are trying to allocate the user to\n",
        "            if canbeallocated(usr , srvr) == 1: ## we check if the user can be allocated to the server\n",
        "              allocate(usr , srvr) ## if yes, we do the allocation\n",
        "              allocated[usr] = srvr ## mark the user as allocated \n",
        "              exectime[usr] -= 1    ## reduce the execution time of the user\n",
        "              user_server_map[srvr][usr][t] = 1 ## store the mapping in the map\n",
        "              servers_used[srvr] = 1 ## mark the server as used\n",
        "              break\n",
        "\n",
        "    ## allocation is done \n",
        "    avgusers = 0 ## calculate the average number of users that have been allocated\n",
        "\n",
        "    ## simply take sum from the map\n",
        "    for i in range(num_servers):\n",
        "      for j in range(num_users):\n",
        "        for t in range(common_deadline):\n",
        "          avgusers += user_server_map[i][j][t]\n",
        "\n",
        "    avgusers = (1.00 * avgusers) / (common_deadline)\n",
        "\n",
        "    avgserversused = (1.00 * len(servers_used)) / common_deadline\n",
        "    if verbose == True:\n",
        "      print (\"the average number of users allocated \" + str(avgusers))\n",
        "      print (\"the average number of servers used \" + str(avgserversused))\n",
        "    return avgusers\n",
        "    "
      ],
      "execution_count": null,
      "outputs": []
    },
    {
      "cell_type": "markdown",
      "metadata": {
        "id": "8GEFmSvMtGWz"
      },
      "source": [
        "#### RANDOM ALLOCATION\n"
      ]
    },
    {
      "cell_type": "code",
      "metadata": {
        "id": "cwLF_J77z00z",
        "colab": {
          "base_uri": "https://localhost:8080/"
        },
        "outputId": "ca9aa8be-6918-46cb-a879-20c1928e6c14"
      },
      "source": [
        "def random_allocation():\n",
        "    def userscompare(i , j):\n",
        "      if i < j:\n",
        "        return -1\n",
        "      elif i == j:\n",
        "        return 0\n",
        "      else:\n",
        "        return 1\n",
        "\n",
        "    def serverscompare(i , j):\n",
        "      if i < j:\n",
        "        return -1\n",
        "      elif i == j:\n",
        "        return 0\n",
        "      else:\n",
        "        return 1\n",
        "        \n",
        "    return perform_user_allocation(cmp_to_key(userscompare) , cmp_to_key(serverscompare))\n",
        "res = random_allocation()\n",
        "print(\"users allocated = \" + str(res))"
      ],
      "execution_count": null,
      "outputs": [
        {
          "output_type": "stream",
          "text": [
            "users allocated = 29.9\n"
          ],
          "name": "stdout"
        }
      ]
    },
    {
      "cell_type": "markdown",
      "metadata": {
        "id": "dMqTERP2FIbI"
      },
      "source": [
        "### USERS SORTED ON THE BASIS OF EXECUTION TIME\n",
        "\n"
      ]
    },
    {
      "cell_type": "code",
      "metadata": {
        "id": "LSuxWrrxtzt5",
        "colab": {
          "base_uri": "https://localhost:8080/"
        },
        "outputId": "64065355-85fe-41ee-e475-fa990ec01092"
      },
      "source": [
        "def greedy_allocation():\n",
        "    def userscompare(i , j):\n",
        "      ei = userexecutiontime[i]\n",
        "      ej = userexecutiontime[j]\n",
        "      if ei < ej:\n",
        "        return -1\n",
        "      elif ei > ej:\n",
        "        return 1\n",
        "      else:    \n",
        "        return 0\n",
        "\n",
        "    def serverscompare(i , j):\n",
        "      if i < j:\n",
        "        return -1\n",
        "      elif i == j:\n",
        "        return 0\n",
        "      else:\n",
        "        return 1\n",
        "\n",
        "    return perform_user_allocation(cmp_to_key(userscompare) , cmp_to_key(serverscompare))\n",
        "  \n",
        "res = greedy_allocation()\n",
        "print(\"users_allocated = \" + str(res))"
      ],
      "execution_count": null,
      "outputs": [
        {
          "output_type": "stream",
          "text": [
            "users_allocated = 30.7\n"
          ],
          "name": "stdout"
        }
      ]
    },
    {
      "cell_type": "markdown",
      "metadata": {
        "id": "wi1qQYybFYlf"
      },
      "source": [
        "### USERS SORTED ON THE BASIS OF EXECUTION TIME AND SERVERS ON THE BASIS OF CAPACITY"
      ]
    },
    {
      "cell_type": "code",
      "metadata": {
        "id": "TOSn3bJavyV3",
        "colab": {
          "base_uri": "https://localhost:8080/"
        },
        "outputId": "8bd5b888-a1e8-4b2d-d926-afd74409f3dd"
      },
      "source": [
        "def most_capacity_first():\n",
        "  def userscompare(i , j):\n",
        "    ei = userexecutiontime[i]\n",
        "    ej = userexecutiontime[j]\n",
        "    if ei < ej:\n",
        "      return -1\n",
        "    elif ei > ej:\n",
        "      return 1\n",
        "    else:    \n",
        "      return 0\n",
        "\n",
        "  def serverscompare(i , j):\n",
        "    scapacityi = servercpu[i] + serverram[i] + serverbandwidth[i] + serverstorage[i]\n",
        "    scapacityj = servercpu[j] + serverram[j] + serverbandwidth[j] + serverstorage[j]\n",
        "\n",
        "    if scapacityi < scapacityj:\n",
        "      return -1\n",
        "    elif scapacityi > scapacityj:\n",
        "      return 1\n",
        "    else:    \n",
        "      return 0\n",
        "\n",
        "  return perform_user_allocation(cmp_to_key(userscompare) , cmp_to_key(serverscompare))\n",
        "res = most_capacity_first()\n",
        "print(\"users = \" + str(res))"
      ],
      "execution_count": null,
      "outputs": [
        {
          "output_type": "stream",
          "text": [
            "users = 31.3\n"
          ],
          "name": "stdout"
        }
      ]
    },
    {
      "cell_type": "markdown",
      "metadata": {
        "id": "_t4z4e2KFxwn"
      },
      "source": [
        "### SORTING BASED ON SOME PARAMETERS"
      ]
    },
    {
      "cell_type": "code",
      "metadata": {
        "id": "ltRtFB1XxfHn",
        "colab": {
          "base_uri": "https://localhost:8080/",
          "height": 255
        },
        "outputId": "6cddf2bd-6b5c-4609-891e-7e56b762ef68"
      },
      "source": [
        "%time\n",
        "## for user we do a1 * resources + (1 - a1) * execution time = a1 * outgoing_edges + (1 - a1) * execution_time\n",
        "## for servers we do b1 * (weight_of_incoming edges) + (1 - b1) * resources available\n",
        "results = pd.DataFrame()\n",
        "A = []\n",
        "B = []\n",
        "C = []\n",
        "def parameter_based_sorting():\n",
        "    hyperparameter_a = [0.1 , 0.3 , 0.5 , 0.7 , 0.9 , 1.00]\n",
        "    hyperparameter_b = [0.1 , 0.3 , 0.5 , 0.7 , 0.9 , 1.00]\n",
        "\n",
        "    ## computing the results in the results data frame\n",
        "    users_allocated = 0\n",
        "    for a1 in hyperparameter_a:\n",
        "      for b1 in hyperparameter_b:\n",
        "        def get_user_cost(j):\n",
        "          cost = (a1 / 4.00) * (usercpu[j] + userstorage[j] + userram[j] + userbandwidth[j]) + (1 - a1) * userexecutiontime[j]\n",
        "          return cost\n",
        "\n",
        "        def get_server_cost(i):\n",
        "          server_coverage = len(coverage[serverid[i]])\n",
        "          cost = (b1 / 4.00) * (servercpu[i] + serverstorage[i] + serverram[i] + serverbandwidth[i]) + (1 - b1) * server_coverage\n",
        "          return cost\n",
        "        def userscompare(i , j):\n",
        "          ## measure the cost of the ith user\n",
        "          ui = get_user_cost(i)\n",
        "          ## measure the cost of the jth user\n",
        "          uj = get_user_cost(j)\n",
        "          if ui < uj:\n",
        "            return -1\n",
        "          elif ui > uj:\n",
        "            return 1\n",
        "          else:    \n",
        "            return 0\n",
        "\n",
        "        def serverscompare(i , j):\n",
        "          ## measure the cost of the ith server\n",
        "          si = get_server_cost(i)\n",
        "          ## measure the cost of the jth server\n",
        "          sj = get_server_cost(j)\n",
        "\n",
        "          if si < sj:\n",
        "            return -1\n",
        "          elif si > sj:\n",
        "            return 1\n",
        "          else:\n",
        "            return 0\n",
        "        allocation = perform_user_allocation(cmp_to_key(userscompare) , cmp_to_key(serverscompare))\n",
        "        A.append(a1)\n",
        "        B.append(b1)\n",
        "        C.append(allocation)\n",
        "        users_allocated = max(users_allocated , allocation)\n",
        "    results['A'] = A\n",
        "    results['B'] = B\n",
        "    results['U'] = C\n",
        "    return users_allocated\n",
        "res = parameter_based_sorting()\n",
        "print(\"users = \" + str(res))\n",
        "results.head()"
      ],
      "execution_count": null,
      "outputs": [
        {
          "output_type": "stream",
          "text": [
            "CPU times: user 2 µs, sys: 0 ns, total: 2 µs\n",
            "Wall time: 6.91 µs\n",
            "users = 31.0\n"
          ],
          "name": "stdout"
        },
        {
          "output_type": "execute_result",
          "data": {
            "text/html": [
              "<div>\n",
              "<style scoped>\n",
              "    .dataframe tbody tr th:only-of-type {\n",
              "        vertical-align: middle;\n",
              "    }\n",
              "\n",
              "    .dataframe tbody tr th {\n",
              "        vertical-align: top;\n",
              "    }\n",
              "\n",
              "    .dataframe thead th {\n",
              "        text-align: right;\n",
              "    }\n",
              "</style>\n",
              "<table border=\"1\" class=\"dataframe\">\n",
              "  <thead>\n",
              "    <tr style=\"text-align: right;\">\n",
              "      <th></th>\n",
              "      <th>A</th>\n",
              "      <th>B</th>\n",
              "      <th>U</th>\n",
              "    </tr>\n",
              "  </thead>\n",
              "  <tbody>\n",
              "    <tr>\n",
              "      <th>0</th>\n",
              "      <td>0.1</td>\n",
              "      <td>0.1</td>\n",
              "      <td>30.5</td>\n",
              "    </tr>\n",
              "    <tr>\n",
              "      <th>1</th>\n",
              "      <td>0.1</td>\n",
              "      <td>0.3</td>\n",
              "      <td>30.5</td>\n",
              "    </tr>\n",
              "    <tr>\n",
              "      <th>2</th>\n",
              "      <td>0.1</td>\n",
              "      <td>0.5</td>\n",
              "      <td>30.5</td>\n",
              "    </tr>\n",
              "    <tr>\n",
              "      <th>3</th>\n",
              "      <td>0.1</td>\n",
              "      <td>0.7</td>\n",
              "      <td>30.5</td>\n",
              "    </tr>\n",
              "    <tr>\n",
              "      <th>4</th>\n",
              "      <td>0.1</td>\n",
              "      <td>0.9</td>\n",
              "      <td>30.5</td>\n",
              "    </tr>\n",
              "  </tbody>\n",
              "</table>\n",
              "</div>"
            ],
            "text/plain": [
              "     A    B     U\n",
              "0  0.1  0.1  30.5\n",
              "1  0.1  0.3  30.5\n",
              "2  0.1  0.5  30.5\n",
              "3  0.1  0.7  30.5\n",
              "4  0.1  0.9  30.5"
            ]
          },
          "metadata": {
            "tags": []
          },
          "execution_count": 12
        }
      ]
    },
    {
      "cell_type": "markdown",
      "metadata": {
        "id": "_uIa7RCRi1ZY"
      },
      "source": [
        "### PLOTTING THE RESULTS TO SEE THE OPTIMAL HYPERPARAMETERS"
      ]
    },
    {
      "cell_type": "code",
      "metadata": {
        "id": "VJ8gxfBaggpS"
      },
      "source": [
        "from mpl_toolkits import mplot3d\n",
        "%matplotlib inline\n",
        "import numpy as np\n",
        "import matplotlib.pyplot as plt\n",
        "import seaborn as sns"
      ],
      "execution_count": null,
      "outputs": []
    },
    {
      "cell_type": "markdown",
      "metadata": {
        "id": "043_xsBXnkJM"
      },
      "source": [
        "### THE VARIATION OF THE RESULTS WITH PARAMETER 'A'"
      ]
    },
    {
      "cell_type": "code",
      "metadata": {
        "id": "jbGTCWWni0tE",
        "colab": {
          "base_uri": "https://localhost:8080/",
          "height": 334
        },
        "outputId": "f9de35c4-022d-4abf-97c8-3332a340f81f"
      },
      "source": [
        "a_dependence = results.groupby(['A']).max().reset_index()\n",
        "sns.set_style('whitegrid')\n",
        "plt.figure(figsize=(10, 5))\n",
        "sns.lineplot(x = a_dependence['A'] , y = a_dependence['U'])\n",
        "plt.xlabel('Hyperparameter A')\n",
        "plt.ylabel('Users allocated')\n",
        "plt.show()"
      ],
      "execution_count": null,
      "outputs": [
        {
          "output_type": "display_data",
          "data": {
            "image/png": "[encoded data removed]",
            "text/plain": [
              "<Figure size 720x360 with 1 Axes>"
            ]
          },
          "metadata": {
            "tags": []
          }
        }
      ]
    },
    {
      "cell_type": "markdown",
      "metadata": {
        "id": "mbmNqwTlnrFT"
      },
      "source": [
        "### VARIATION OF RESULTS WITH THE PARAMETER 'B'"
      ]
    },
    {
      "cell_type": "code",
      "metadata": {
        "id": "Y8sBXUFrjOoR",
        "colab": {
          "base_uri": "https://localhost:8080/",
          "height": 279
        },
        "outputId": "3834cb8c-2971-46e2-a255-e7afc4750c40"
      },
      "source": [
        "b_dependence = results.groupby(['B']).max().reset_index()\n",
        "sns.lineplot(x = b_dependence['B'] , y = b_dependence['U'])\n",
        "plt.xlabel('Hyperparameter B')\n",
        "plt.ylabel('Users allocated')\n",
        "plt.show()"
      ],
      "execution_count": null,
      "outputs": [
        {
          "output_type": "display_data",
          "data": {
            "image/png": "[encoded data removed]",
            "text/plain": [
              "<Figure size 432x288 with 1 Axes>"
            ]
          },
          "metadata": {
            "tags": []
          }
        }
      ]
    }
  ]
}